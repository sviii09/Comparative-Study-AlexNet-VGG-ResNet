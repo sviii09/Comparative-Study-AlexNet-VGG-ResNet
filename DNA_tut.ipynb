{
  "nbformat": 4,
  "nbformat_minor": 0,
  "metadata": {
    "colab": {
      "provenance": [],
      "gpuType": "T4",
      "include_colab_link": true
    },
    "kernelspec": {
      "name": "python3",
      "display_name": "Python 3"
    },
    "language_info": {
      "name": "python"
    },
    "accelerator": "GPU"
  },
  "cells": [
    {
      "cell_type": "markdown",
      "metadata": {
        "id": "view-in-github",
        "colab_type": "text"
      },
      "source": [
        "<a href=\"https://colab.research.google.com/github/sviii09/Comparative-Study-AlexNet-VGG-ResNet/blob/main/DNA_tut.ipynb\" target=\"_parent\"><img src=\"https://colab.research.google.com/assets/colab-badge.svg\" alt=\"Open In Colab\"/></a>"
      ]
    },
    {
      "cell_type": "code",
      "execution_count": null,
      "metadata": {
        "colab": {
          "base_uri": "https://localhost:8080/"
        },
        "id": "9q2U1xj_ye9T",
        "outputId": "4c1e279a-45d5-4a06-edd5-aea1a378d008"
      },
      "outputs": [
        {
          "metadata": {
            "tags": null
          },
          "name": "stdout",
          "output_type": "stream",
          "text": [
            "Using device: cuda\n"
          ]
        },
        {
          "metadata": {
            "tags": null
          },
          "name": "stderr",
          "output_type": "stream",
          "text": [
            "100%|██████████| 170M/170M [00:04<00:00, 39.6MB/s]\n",
            "/usr/local/lib/python3.11/dist-packages/torchvision/models/_utils.py:208: UserWarning: The parameter 'pretrained' is deprecated since 0.13 and may be removed in the future, please use 'weights' instead.\n",
            "  warnings.warn(\n",
            "/usr/local/lib/python3.11/dist-packages/torchvision/models/_utils.py:223: UserWarning: Arguments other than a weight enum or `None` for 'weights' are deprecated since 0.13 and may be removed in the future. The current behavior is equivalent to passing `weights=AlexNet_Weights.IMAGENET1K_V1`. You can also use `weights=AlexNet_Weights.DEFAULT` to get the most up-to-date weights.\n",
            "  warnings.warn(msg)\n",
            "Downloading: \"https://download.pytorch.org/models/alexnet-owt-7be5be79.pth\" to /root/.cache/torch/hub/checkpoints/alexnet-owt-7be5be79.pth\n",
            "100%|██████████| 233M/233M [00:01<00:00, 182MB/s]\n",
            "/usr/local/lib/python3.11/dist-packages/torchvision/models/_utils.py:223: UserWarning: Arguments other than a weight enum or `None` for 'weights' are deprecated since 0.13 and may be removed in the future. The current behavior is equivalent to passing `weights=VGG16_Weights.IMAGENET1K_V1`. You can also use `weights=VGG16_Weights.DEFAULT` to get the most up-to-date weights.\n",
            "  warnings.warn(msg)\n",
            "Downloading: \"https://download.pytorch.org/models/vgg16-397923af.pth\" to /root/.cache/torch/hub/checkpoints/vgg16-397923af.pth\n",
            "100%|██████████| 528M/528M [00:06<00:00, 80.0MB/s]\n",
            "/usr/local/lib/python3.11/dist-packages/torchvision/models/_utils.py:223: UserWarning: Arguments other than a weight enum or `None` for 'weights' are deprecated since 0.13 and may be removed in the future. The current behavior is equivalent to passing `weights=ResNet18_Weights.IMAGENET1K_V1`. You can also use `weights=ResNet18_Weights.DEFAULT` to get the most up-to-date weights.\n",
            "  warnings.warn(msg)\n",
            "Downloading: \"https://download.pytorch.org/models/resnet18-f37072fd.pth\" to /root/.cache/torch/hub/checkpoints/resnet18-f37072fd.pth\n",
            "100%|██████████| 44.7M/44.7M [00:00<00:00, 182MB/s]\n"
          ]
        },
        {
          "output_type": "stream",
          "name": "stdout",
          "text": [
            "[AlexNet] Epoch 1/2, Loss: 1.3950\n",
            "[AlexNet] Epoch 2/2, Loss: 0.9686\n",
            "[AlexNet] Accuracy: 71.18% | Time: 259.19s | Parameters: 57,044,810\n",
            "[VGG16] Epoch 1/2, Loss: 1.8758\n",
            "[VGG16] Epoch 2/2, Loss: 1.4093\n",
            "[VGG16] Accuracy: 55.64% | Time: 1528.21s | Parameters: 134,301,514\n",
            "[ResNet18] Epoch 1/2, Loss: 0.5588\n",
            "[ResNet18] Epoch 2/2, Loss: 0.3175\n",
            "[ResNet18] Accuracy: 86.34% | Time: 444.33s | Parameters: 11,181,642\n",
            "\n",
            "Final Comparison:\n",
            "Model     | Accuracy | Time (s) | Parameters\n",
            "AlexNet  | 71.18%   | 259.19    | 57,044,810\n",
            "VGG16    | 55.64%   | 1528.21    | 134,301,514\n",
            "ResNet18 | 86.34%   | 444.33    | 11,181,642\n"
          ]
        }
      ],
      "source": [
        "# Comparative Study: AlexNet, VGG, ResNet\n",
        "# Dataset: CIFAR-10\n",
        "\n",
        "import torch\n",
        "import torch.nn as nn\n",
        "import torch.optim as optim\n",
        "import torchvision\n",
        "import torchvision.transforms as transforms\n",
        "from torchvision import models\n",
        "import time\n",
        "\n",
        "device = torch.device(\"cuda\" if torch.cuda.is_available() else \"cpu\")\n",
        "print(\"Using device:\", device)\n",
        "\n",
        "transform = transforms.Compose([\n",
        "    transforms.Resize(224),\n",
        "    transforms.ToTensor(),\n",
        "    transforms.Normalize((0.5, 0.5, 0.5), (0.5, 0.5, 0.5))\n",
        "])\n",
        "\n",
        "trainset = torchvision.datasets.CIFAR10(root='./data', train=True, download=True, transform=transform)\n",
        "trainloader = torch.utils.data.DataLoader(trainset, batch_size=64, shuffle=True)\n",
        "\n",
        "testset = torchvision.datasets.CIFAR10(root='./data', train=False, download=True, transform=transform)\n",
        "testloader = torch.utils.data.DataLoader(testset, batch_size=64, shuffle=False)\n",
        "\n",
        "classes = trainset.classes\n",
        "num_classes = len(classes)\n",
        "\n",
        "def train_and_test(model, model_name, epochs=2):\n",
        "    model = model.to(device)\n",
        "    criterion = nn.CrossEntropyLoss()\n",
        "    optimizer = optim.Adam(model.parameters(), lr=0.001)\n",
        "\n",
        "    start_time = time.time()\n",
        "\n",
        "    for epoch in range(epochs):\n",
        "        model.train()\n",
        "        running_loss = 0.0\n",
        "        for inputs, labels in trainloader:\n",
        "            inputs, labels = inputs.to(device), labels.to(device)\n",
        "\n",
        "            optimizer.zero_grad()\n",
        "            outputs = model(inputs)\n",
        "            loss = criterion(outputs, labels)\n",
        "            loss.backward()\n",
        "            optimizer.step()\n",
        "\n",
        "            running_loss += loss.item()\n",
        "        print(f\"[{model_name}] Epoch {epoch+1}/{epochs}, Loss: {running_loss/len(trainloader):.4f}\")\n",
        "\n",
        "    train_time = time.time() - start_time\n",
        "\n",
        "    model.eval()\n",
        "    correct, total = 0, 0\n",
        "    with torch.no_grad():\n",
        "        for inputs, labels in testloader:\n",
        "            inputs, labels = inputs.to(device), labels.to(device)\n",
        "            outputs = model(inputs)\n",
        "            _, predicted = torch.max(outputs.data, 1)\n",
        "            total += labels.size(0)\n",
        "            correct += (predicted == labels).sum().item()\n",
        "\n",
        "    accuracy = 100 * correct / total\n",
        "    params = sum(p.numel() for p in model.parameters())\n",
        "\n",
        "    print(f\"[{model_name}] Accuracy: {accuracy:.2f}% | Time: {train_time:.2f}s | Parameters: {params:,}\")\n",
        "    return accuracy, train_time, params\n",
        "\n",
        "models_to_test = {\n",
        "    \"AlexNet\": models.alexnet(pretrained=True),\n",
        "    \"VGG16\": models.vgg16(pretrained=True),\n",
        "    \"ResNet18\": models.resnet18(pretrained=True)\n",
        "}\n",
        "\n",
        "results = {}\n",
        "for name, model in models_to_test.items():\n",
        "    if name == \"ResNet18\":\n",
        "        model.fc = nn.Linear(model.fc.in_features, num_classes)\n",
        "    else:\n",
        "        model.classifier[-1] = nn.Linear(model.classifier[-1].in_features, num_classes)\n",
        "\n",
        "    acc, ttime, params = train_and_test(model, name)\n",
        "    results[name] = (acc, ttime, params)\n",
        "\n",
        "print(\"\\nFinal Comparison:\")\n",
        "print(\"Model     | Accuracy | Time (s) | Parameters\")\n",
        "for name, (acc, ttime, params) in results.items():\n",
        "    print(f\"{name:8} | {acc:.2f}%   | {ttime:.2f}    | {params:,}\")\n"
      ]
    }
  ]
}